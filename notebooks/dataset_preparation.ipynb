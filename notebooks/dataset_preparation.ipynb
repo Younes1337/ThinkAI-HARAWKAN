{
 "cells": [
  {
   "attachments": {},
   "cell_type": "markdown",
   "metadata": {},
   "source": [
    "# DODa Dataset Manipulation\n",
    "<p>\n",
    "<h4>30 csv files in total after deleting some irrelevant ones for our case</h4><br>\n",
    "\n",
    "  <img src=\"./image.png\">\n",
    "</p>\n"
   ]
  },
  {
   "attachments": {},
   "cell_type": "markdown",
   "metadata": {},
   "source": [
    "## Importing libraries"
   ]
  },
  {
   "cell_type": "code",
   "execution_count": 2,
   "metadata": {},
   "outputs": [],
   "source": [
    "import pandas as pd\n",
    "import os\n",
    "import json"
   ]
  },
  {
   "attachments": {},
   "cell_type": "markdown",
   "metadata": {},
   "source": [
    "## Creating a .json dataset"
   ]
  },
  {
   "cell_type": "code",
   "execution_count": 75,
   "metadata": {},
   "outputs": [],
   "source": [
    "with open(\"dataset.json\", \"w\") as write_file:\n",
    "    data = [{\n",
    "                \"instruction\": \"Translate this from darija to english\",\n",
    "                \"input\": \"ahlan\",\n",
    "                \"output\": \"hello\"\n",
    "            }]\n",
    "\n",
    "    for file_name in os.listdir(\"4 variants/\"):\n",
    "        file = pd.read_csv(\"4 variants/\" + file_name)\n",
    "        for i in range(len(file)):\n",
    "            for j in [\"n1\",\"n2\",\"n3\",\"n4\"]:\n",
    "                if str(file[j][i]) not in [\"nan\", \"NaN\"]:\n",
    "                    x = {\n",
    "                            \"instruction\": \"Translate this from darija to english\",\n",
    "                            \"input\":str(file[j][i]),\n",
    "                            \"output\": str(file[\"eng\"][i])\n",
    "                        }\n",
    "                    data.append(x)\n",
    "                    \n",
    "\n",
    "    for file_name in os.listdir(\"3 variants/\"):\n",
    "        file = pd.read_csv(\"3 variants/\" + file_name)\n",
    "        for i in range(len(file)):\n",
    "            for j in [\"n1\",\"n2\",\"n3\"]:\n",
    "                if str(file[j][i]) not in [\"nan\", \"NaN\"]:\n",
    "                    x = {\n",
    "                            \"instruction\": \"Translate this from darija to english\",\n",
    "                            \"input\":str(file[j][i]),\n",
    "                            \"output\": str(file[\"eng\"][i])\n",
    "                        }\n",
    "                    data.append(x)\n",
    "\n",
    "    for file_name in os.listdir(\"1 variant/\"):\n",
    "        file = pd.read_csv(\"1 variant/\" + file_name)\n",
    "        for i in range(len(file)):\n",
    "            if str(file[\"darija\"][i]) not in [\"nan\", \"NaN\"] or str(file[\"eng\"][i]) not in [\"nan\", \"NaN\"]:\n",
    "                x = {\n",
    "                        \"instruction\": \"Translate this from darija to english\",\n",
    "                        \"input\":str(file[\"darija\"][i]),\n",
    "                        \"output\": str(file[\"eng\"][i])\n",
    "                    }\n",
    "                data.append(x)\n",
    "\n",
    "    file = pd.read_csv(\"6 variants/verbs.csv\")\n",
    "    for i in range(len(file)):\n",
    "        for j in [\"n1\",\"n2\",\"n3\",\"n4\",\"n5\",\"n6\"]:\n",
    "            if str(file[j][i]) not in [\"nan\", \"NaN\"]:\n",
    "                x = {\n",
    "                        \"instruction\": \"Translate this from darija to english\",\n",
    "                        \"input\":str(file[j][i]),\n",
    "                        \"output\": str(file[\"eng\"][i])\n",
    "                    }\n",
    "                data.append(x)\n",
    "    \n",
    "    json_string = json.dumps(data)\n",
    "    write_file.write(json_string)"
   ]
  },
  {
   "attachments": {},
   "cell_type": "markdown",
   "metadata": {},
   "source": [
    "## Creating a .txt tab-delimited dataset"
   ]
  },
  {
   "cell_type": "code",
   "execution_count": 7,
   "metadata": {},
   "outputs": [],
   "source": [
    "with open(\"dataset.txt\", \"w\") as write_file:\n",
    "    data = \"ahlan\" + \".\\t\" + \"hello\" + \"\\n\"\n",
    "            \n",
    "\n",
    "    for file_name in os.listdir(\"4 variants/\"):\n",
    "        file = pd.read_csv(\"4 variants/\" + file_name)\n",
    "        for i in range(len(file)):\n",
    "            for j in [\"n1\",\"n2\",\"n3\",\"n4\"]:\n",
    "                if str(file[j][i]) not in [\"nan\", \"NaN\"] and str(file[\"eng\"][i]) not in [\"nan\", \"NaN\"]:\n",
    "                    data += str(file[j][i]) + \".\\t\" + str(file[\"eng\"][i]) + \".\\n\"\n",
    "\n",
    "    for file_name in os.listdir(\"3 variants/\"):\n",
    "        file = pd.read_csv(\"3 variants/\" + file_name)\n",
    "        for i in range(len(file)):\n",
    "            for j in [\"n1\",\"n2\",\"n3\"]:\n",
    "                if str(file[j][i]) not in [\"nan\", \"NaN\"] and str(file[\"eng\"][i]) not in [\"nan\", \"NaN\"]:\n",
    "                    data += str(file[j][i]) + \".\\t\" + str(file[\"eng\"][i]) + \".\\n\"\n",
    "\n",
    "    for file_name in os.listdir(\"1 variant/\"):\n",
    "        file = pd.read_csv(\"1 variant/\" + file_name)\n",
    "        for i in range(len(file)):\n",
    "            if str(file[\"darija\"][i]) not in [\"nan\", \"NaN\"] and str(file[\"eng\"][i]) not in [\"nan\", \"NaN\"]:\n",
    "                data += str(file[\"darija\"][i]) + \".\\t\" + str(file[\"eng\"][i]) + \".\\n\"\n",
    "\n",
    "    file = pd.read_csv(\"6 variants/verbs.csv\")\n",
    "    for i in range(len(file)):\n",
    "        for j in [\"n1\",\"n2\",\"n3\",\"n4\",\"n5\",\"n6\"]:\n",
    "            if str(file[j][i]) not in [\"nan\", \"NaN\"] and str(file[\"eng\"][i]) not in [\"nan\", \"NaN\"]:\n",
    "                data += str(file[j][i]) + \".\\t\" + str(file[\"eng\"][i]) + \".\\n\"\n",
    "    \n",
    "    write_file.write(data)"
   ]
  }
 ],
 "metadata": {
  "kernelspec": {
   "display_name": "Python 3",
   "language": "python",
   "name": "python3"
  },
  "language_info": {
   "codemirror_mode": {
    "name": "ipython",
    "version": 3
   },
   "file_extension": ".py",
   "mimetype": "text/x-python",
   "name": "python",
   "nbconvert_exporter": "python",
   "pygments_lexer": "ipython3",
   "version": "3.9.1"
  },
  "orig_nbformat": 4
 },
 "nbformat": 4,
 "nbformat_minor": 2
}
